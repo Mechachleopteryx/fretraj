{
 "cells": [
  {
   "cell_type": "markdown",
   "metadata": {},
   "source": [
    "# Calculating accessible contact volumes"
   ]
  },
  {
   "cell_type": "code",
   "execution_count": 6,
   "metadata": {},
   "outputs": [],
   "source": [
    "import numpy as np\n",
    "from matplotlib import pyplot as plt\n",
    "import pandas as pd\n",
    "import mdtraj as md\n",
    "import fretraj as ft\n",
    "import copy"
   ]
  },
  {
   "cell_type": "markdown",
   "metadata": {},
   "source": [
    "First, we load a **PDB file** using MDtraj. Here, we look at a preQ1 riboswitch (PDB: 5Q50)"
   ]
  },
  {
   "cell_type": "code",
   "execution_count": 8,
   "metadata": {},
   "outputs": [],
   "source": [
    "struct = md.load_pdb('preQ1_5q50.pdb')"
   ]
  },
  {
   "cell_type": "code",
   "execution_count": 9,
   "metadata": {},
   "outputs": [],
   "source": [
    "table, bonds = struct.top.to_dataframe()"
   ]
  },
  {
   "cell_type": "code",
   "execution_count": 10,
   "metadata": {},
   "outputs": [
    {
     "data": {
      "text/html": [
       "<div>\n",
       "<style scoped>\n",
       "    .dataframe tbody tr th:only-of-type {\n",
       "        vertical-align: middle;\n",
       "    }\n",
       "\n",
       "    .dataframe tbody tr th {\n",
       "        vertical-align: top;\n",
       "    }\n",
       "\n",
       "    .dataframe thead th {\n",
       "        text-align: right;\n",
       "    }\n",
       "</style>\n",
       "<table border=\"1\" class=\"dataframe\">\n",
       "  <thead>\n",
       "    <tr style=\"text-align: right;\">\n",
       "      <th></th>\n",
       "      <th>serial</th>\n",
       "      <th>name</th>\n",
       "      <th>element</th>\n",
       "      <th>resSeq</th>\n",
       "      <th>resName</th>\n",
       "      <th>chainID</th>\n",
       "      <th>segmentID</th>\n",
       "    </tr>\n",
       "  </thead>\n",
       "  <tbody>\n",
       "    <tr>\n",
       "      <th>0</th>\n",
       "      <td>1</td>\n",
       "      <td>C5'</td>\n",
       "      <td>C</td>\n",
       "      <td>1</td>\n",
       "      <td>C</td>\n",
       "      <td>0</td>\n",
       "      <td></td>\n",
       "    </tr>\n",
       "    <tr>\n",
       "      <th>1</th>\n",
       "      <td>2</td>\n",
       "      <td>O5'</td>\n",
       "      <td>O</td>\n",
       "      <td>1</td>\n",
       "      <td>C</td>\n",
       "      <td>0</td>\n",
       "      <td></td>\n",
       "    </tr>\n",
       "    <tr>\n",
       "      <th>2</th>\n",
       "      <td>3</td>\n",
       "      <td>C4'</td>\n",
       "      <td>C</td>\n",
       "      <td>1</td>\n",
       "      <td>C</td>\n",
       "      <td>0</td>\n",
       "      <td></td>\n",
       "    </tr>\n",
       "    <tr>\n",
       "      <th>3</th>\n",
       "      <td>4</td>\n",
       "      <td>O4'</td>\n",
       "      <td>O</td>\n",
       "      <td>1</td>\n",
       "      <td>C</td>\n",
       "      <td>0</td>\n",
       "      <td></td>\n",
       "    </tr>\n",
       "    <tr>\n",
       "      <th>4</th>\n",
       "      <td>5</td>\n",
       "      <td>C3'</td>\n",
       "      <td>C</td>\n",
       "      <td>1</td>\n",
       "      <td>C</td>\n",
       "      <td>0</td>\n",
       "      <td></td>\n",
       "    </tr>\n",
       "  </tbody>\n",
       "</table>\n",
       "</div>"
      ],
      "text/plain": [
       "   serial name element  resSeq resName  chainID segmentID\n",
       "0       1  C5'       C       1       C        0          \n",
       "1       2  O5'       O       1       C        0          \n",
       "2       3  C4'       C       1       C        0          \n",
       "3       4  O4'       O       1       C        0          \n",
       "4       5  C3'       C       1       C        0          "
      ]
     },
     "execution_count": 10,
     "metadata": {},
     "output_type": "execute_result"
    }
   ],
   "source": [
    "table.head()"
   ]
  },
  {
   "cell_type": "markdown",
   "metadata": {},
   "source": [
    "Next we need to define the **parameters** for the accessible contact volumes. We select `O5'` (serial id: 2) and `O3'` (serial id: 682) as the attachement points on the RNA. FRETraj takes a dictionary based parameter file in json format. The structure is as follows:"
   ]
  },
  {
   "cell_type": "code",
   "execution_count": 11,
   "metadata": {},
   "outputs": [],
   "source": [
    "labels = {\"Position\":\n",
    "            {\"Cy3\":\n",
    "                {\"attach_id\": 2,\n",
    "                 \"linker_length\": 20,\n",
    "                 \"linker_width\": 5,\n",
    "                 \"dye_radius1\": 8.0,\n",
    "                 \"dye_radius2\": 3.5,\n",
    "                 \"dye_radius3\": 3.0},\n",
    "            \"Cy5\":\n",
    "                {\"attach_id\": 682,\n",
    "                 \"linker_length\": 20,\n",
    "                 \"linker_width\": 5,\n",
    "                 \"dye_radius1\": 10.0,\n",
    "                 \"dye_radius2\": 3.5,\n",
    "                 \"dye_radius3\": 3.0}},\n",
    "          \"Distance\": {\"Cy3-Cy5\":\n",
    "            {\"R0\": 54}}}"
   ]
  },
  {
   "cell_type": "code",
   "execution_count": 12,
   "metadata": {},
   "outputs": [],
   "source": [
    "labels = ft.cloud.check_labels(labels, verbose=False)"
   ]
  },
  {
   "cell_type": "markdown",
   "metadata": {},
   "source": [
    "We can now calculate a **donor and acceptor accessible volume** given the parameters defined in `labels`"
   ]
  },
  {
   "cell_type": "code",
   "execution_count": 13,
   "metadata": {},
   "outputs": [],
   "source": [
    "don = ft.cloud.Volume(struct, 'Cy3', labels)\n",
    "acc = ft.cloud.Volume(struct, 'Cy5', labels)"
   ]
  },
  {
   "cell_type": "markdown",
   "metadata": {},
   "source": [
    "We can check the attachment position and the coordinates of the mean position of the dye in the AV"
   ]
  },
  {
   "cell_type": "code",
   "execution_count": 14,
   "metadata": {},
   "outputs": [
    {
     "name": "stdout",
     "output_type": "stream",
     "text": [
      "donor attachment site: C1-O5'\n",
      "acceptor attachment site: G33-O5'\n",
      "donor MP coordinates: x = 28.5, y = 55.3, z = 19.9\n",
      "acceptor MP coordinates: x = 41.2, y = 31.9, z = 2.8\n"
     ]
    }
   ],
   "source": [
    "print(f'donor attachment site: {don.resi_atom}')\n",
    "print(f'acceptor attachment site: {acc.resi_atom}')\n",
    "\n",
    "print(f'donor MP coordinates: x = {don.acv.mp[0]:.1f}, y = {don.acv.mp[1]:.1f}, z = {don.acv.mp[2]:.1f}')\n",
    "print(f'acceptor MP coordinates: x = {acc.acv.mp[0]:.1f}, y = {acc.acv.mp[1]:.1f}, z = {acc.acv.mp[2]:.1f}')"
   ]
  },
  {
   "cell_type": "markdown",
   "metadata": {},
   "source": [
    "If PyMOL is installed and launched with the `-R` flag (RPC client), we can connect to it from within this Jupyter notebook"
   ]
  },
  {
   "cell_type": "code",
   "execution_count": 13,
   "metadata": {},
   "outputs": [],
   "source": [
    "#ft.jupyter.connect2pymol()"
   ]
  },
  {
   "cell_type": "code",
   "execution_count": 14,
   "metadata": {},
   "outputs": [],
   "source": [
    "#cmd.load('preQ1.pdb')"
   ]
  },
  {
   "cell_type": "markdown",
   "metadata": {},
   "source": [
    "Currently every point in the AV is weighted equally. However cyanine dyes are known to interact with RNA. We can account for this surface sticking by including a contact volume close to the RNA surface. These points are then weighted more strongly. Let's define a **contact volume width** equal to `dye_radius2` and assign a weight to each point in the CV such that the **probability** of finding a dye in the CV is 3x higher than in the free volume (i.e. a relative fraction of 0.75 to 0.25) "
   ]
  },
  {
   "cell_type": "code",
   "execution_count": 15,
   "metadata": {},
   "outputs": [],
   "source": [
    "labels_withCV = copy.deepcopy(labels)\n",
    "labels_withCV['Position']['Cy3']['cv_thickness'] = 5\n",
    "labels_withCV['Position']['Cy5']['cv_thickness'] = 5\n",
    "\n",
    "labels_withCV['Position']['Cy3']['cv_fraction'] = 0.75\n",
    "labels_withCV['Position']['Cy5']['cv_fraction'] = 0.75"
   ]
  },
  {
   "cell_type": "code",
   "execution_count": 16,
   "metadata": {},
   "outputs": [],
   "source": [
    "don_withCV = ft.cloud.Volume(struct, 'Cy3', labels_withCV)\n",
    "acc_withCV = ft.cloud.Volume(struct, 'Cy5', labels_withCV)"
   ]
  },
  {
   "cell_type": "markdown",
   "metadata": {},
   "source": [
    "Let's check if the coordinates of the mean dye position have indeed changed"
   ]
  },
  {
   "cell_type": "code",
   "execution_count": 17,
   "metadata": {},
   "outputs": [
    {
     "name": "stdout",
     "output_type": "stream",
     "text": [
      "donor MP coordinates: x = 30.9, y = 49.8, z = 22.5\n",
      "acceptor MP coordinates: x = 40.3, y = 32.4, z = 8.6\n"
     ]
    }
   ],
   "source": [
    "print(f'donor MP coordinates: x = {don_withCV.acv.mp[0]:.1f}, y = {don_withCV.acv.mp[1]:.1f}, z = {don_withCV.acv.mp[2]:.1f}')\n",
    "print(f'acceptor MP coordinates: x = {acc_withCV.acv.mp[0]:.1f}, y = {acc_withCV.acv.mp[1]:.1f}, z = {acc_withCV.acv.mp[2]:.1f}')"
   ]
  },
  {
   "cell_type": "markdown",
   "metadata": {},
   "source": [
    "The ACV cloud can be save to disk if needed. "
   ]
  },
  {
   "cell_type": "code",
   "execution_count": 18,
   "metadata": {},
   "outputs": [],
   "source": [
    "don_withCV.save_acv('out/donor_withCV.pdb', format='pdb')"
   ]
  },
  {
   "cell_type": "markdown",
   "metadata": {},
   "source": [
    "Next, we calculate the FRET efficiency between the donor and acceptor point cloud"
   ]
  },
  {
   "cell_type": "code",
   "execution_count": 20,
   "metadata": {},
   "outputs": [],
   "source": [
    "fret = ft.cloud.FRET_Trajectory(don, acc, 'Cy3-Cy5', labels)\n",
    "fret_withCV = ft.cloud.FRET_Trajectory(don_withCV, acc_withCV, 'Cy3-Cy5', labels)"
   ]
  },
  {
   "cell_type": "code",
   "execution_count": 21,
   "metadata": {},
   "outputs": [
    {
     "data": {
      "text/html": [
       "<div>\n",
       "<style scoped>\n",
       "    .dataframe tbody tr th:only-of-type {\n",
       "        vertical-align: middle;\n",
       "    }\n",
       "\n",
       "    .dataframe tbody tr th {\n",
       "        vertical-align: top;\n",
       "    }\n",
       "\n",
       "    .dataframe thead th {\n",
       "        text-align: right;\n",
       "    }\n",
       "</style>\n",
       "<table border=\"1\" class=\"dataframe\">\n",
       "  <thead>\n",
       "    <tr style=\"text-align: right;\">\n",
       "      <th></th>\n",
       "      <th>R0 (A)</th>\n",
       "      <th>&lt;R_DA&gt; (A)</th>\n",
       "      <th>sigma_R_DA (A)</th>\n",
       "      <th>&lt;E_DA&gt;</th>\n",
       "      <th>&lt;R_DA_E&gt; (A)</th>\n",
       "      <th>R_attach (A)</th>\n",
       "      <th>R_mp (A)</th>\n",
       "    </tr>\n",
       "  </thead>\n",
       "  <tbody>\n",
       "    <tr>\n",
       "      <th>no CV</th>\n",
       "      <td>54.0</td>\n",
       "      <td>36.2</td>\n",
       "      <td>10.9</td>\n",
       "      <td>0.85</td>\n",
       "      <td>40.3</td>\n",
       "      <td>25.5</td>\n",
       "      <td>31.7</td>\n",
       "    </tr>\n",
       "    <tr>\n",
       "      <th>CV</th>\n",
       "      <td>54.0</td>\n",
       "      <td>28.9</td>\n",
       "      <td>10.1</td>\n",
       "      <td>0.94</td>\n",
       "      <td>34.4</td>\n",
       "      <td>25.5</td>\n",
       "      <td>24.1</td>\n",
       "    </tr>\n",
       "  </tbody>\n",
       "</table>\n",
       "</div>"
      ],
      "text/plain": [
       "       R0 (A)  <R_DA> (A)  sigma_R_DA (A)  <E_DA>  <R_DA_E> (A)  R_attach (A)  \\\n",
       "no CV    54.0        36.2            10.9    0.85          40.3          25.5   \n",
       "CV       54.0        28.9            10.1    0.94          34.4          25.5   \n",
       "\n",
       "       R_mp (A)  \n",
       "no CV      31.7  \n",
       "CV         24.1  "
      ]
     },
     "execution_count": 21,
     "metadata": {},
     "output_type": "execute_result"
    }
   ],
   "source": [
    "pd.concat((pd.DataFrame(fret.values, index=['no CV']), pd.DataFrame(fret_withCV.values, index=['CV'])))"
   ]
  },
  {
   "cell_type": "markdown",
   "metadata": {},
   "source": [
    "The FRET result can also be saved to disk "
   ]
  },
  {
   "cell_type": "code",
   "execution_count": 24,
   "metadata": {},
   "outputs": [],
   "source": [
    "fret.save_fret('out/fret_preQ1.json')"
   ]
  }
 ],
 "metadata": {
  "kernelspec": {
   "display_name": "Python 3",
   "language": "python",
   "name": "python3"
  },
  "language_info": {
   "codemirror_mode": {
    "name": "ipython",
    "version": 3
   },
   "file_extension": ".py",
   "mimetype": "text/x-python",
   "name": "python",
   "nbconvert_exporter": "python",
   "pygments_lexer": "ipython3",
   "version": "3.7.9"
  }
 },
 "nbformat": 4,
 "nbformat_minor": 4
}

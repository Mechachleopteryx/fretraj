{
 "cells": [
  {
   "cell_type": "markdown",
   "metadata": {},
   "source": [
    "# FRETraj Tutorial - Modeling with FRET restraints"
   ]
  },
  {
   "cell_type": "code",
   "execution_count": 1,
   "metadata": {},
   "outputs": [],
   "source": [
    "import numpy as np\n",
    "from matplotlib import pyplot as plt\n",
    "import pandas as pd\n",
    "import mdtraj as md\n",
    "import fretraj as ft"
   ]
  },
  {
   "cell_type": "code",
   "execution_count": 2,
   "metadata": {},
   "outputs": [],
   "source": [
    "import importlib"
   ]
  },
  {
   "cell_type": "code",
   "execution_count": 3,
   "metadata": {},
   "outputs": [],
   "source": [
    "#importlib.reload(ft.restraints)"
   ]
  },
  {
   "cell_type": "markdown",
   "metadata": {},
   "source": [
    "### Accessible contact volume\n",
    "\n",
    "Calculate ACVs for donor and acceptor dye on an **energy minimized and fully solvated** biomolecule.\n",
    "> Note: the generated .gro file must first be converted to a .pdb file using `gmx trjconv`"
   ]
  },
  {
   "cell_type": "code",
   "execution_count": 4,
   "metadata": {},
   "outputs": [],
   "source": [
    "labels = ft.cloud.labeling_params('DNA_parameters.json')"
   ]
  },
  {
   "cell_type": "code",
   "execution_count": 5,
   "metadata": {},
   "outputs": [],
   "source": [
    "struct = md.load_pdb('DNA.pdb')\n",
    "struct_nosolv = struct.remove_solvent()"
   ]
  },
  {
   "cell_type": "code",
   "execution_count": 6,
   "metadata": {},
   "outputs": [],
   "source": [
    "don = ft.cloud.Volume(struct_nosolv, '1-DT20-P', labels)\n",
    "acc = ft.cloud.Volume(struct_nosolv, '1-DC44-O3\\'', labels)"
   ]
  },
  {
   "cell_type": "markdown",
   "metadata": {},
   "source": [
    "Compute a FRET trajectory from the ACVs"
   ]
  },
  {
   "cell_type": "code",
   "execution_count": 7,
   "metadata": {},
   "outputs": [],
   "source": [
    "fret_traj = ft.cloud.FRET_Trajectory(don, acc, 'default param.', labels)"
   ]
  },
  {
   "cell_type": "markdown",
   "metadata": {},
   "source": [
    "Create a Plumed object from the loaded structure and the ACVs. Look for neighboring phosphorus atoms within a range of 1.5 nm. "
   ]
  },
  {
   "cell_type": "code",
   "execution_count": 22,
   "metadata": {},
   "outputs": [],
   "source": [
    "plumed = ft.restraints.Plumed(struct, [don, acc], selection='name P', cutoff=1.5)"
   ]
  },
  {
   "cell_type": "markdown",
   "metadata": {},
   "source": [
    "Set your desired FRET value that you want the simulation converge to. The corresponding $\\langle R_{DA,E}\\rangle$ will be computed from the $\\langle E\\rangle$. The $\\langle R_{mp}\\rangle$ will be calculated from $\\langle E\\rangle$ using a third order polynomial (Kalinin et al., *Nat. Methods*, 2012)"
   ]
  },
  {
   "cell_type": "code",
   "execution_count": 23,
   "metadata": {},
   "outputs": [],
   "source": [
    "targetFRET = 0.5\n",
    "mean_R_DA_E = ft.fret.mean_dist_DA_fromFRET(None,None,targetFRET,54)\n",
    "targetRmp = ft.fret.R_DAE_to_Rmp(mean_R_DA_E)"
   ]
  },
  {
   "cell_type": "markdown",
   "metadata": {},
   "source": [
    "Compile a plumed input file for the MD simulation"
   ]
  },
  {
   "cell_type": "code",
   "execution_count": 19,
   "metadata": {},
   "outputs": [],
   "source": [
    "plumed.write_plumed('out/plumed_DT20-DC44.dat', targetRmp, 100, 100)"
   ]
  },
  {
   "cell_type": "markdown",
   "metadata": {},
   "source": [
    "To illustrate the restaints save a visualization skript for VMD or PyMOL which can be run with either `vmd_vis -c filename.gro -x trajectory.xtc -v vis.vmd` or `pymol_vis -c filename.gro -x trajectory.xtc -v vis.py`"
   ]
  },
  {
   "cell_type": "code",
   "execution_count": 107,
   "metadata": {},
   "outputs": [],
   "source": [
    "plumed.write_vmd('out/vis.vmd')"
   ]
  },
  {
   "cell_type": "code",
   "execution_count": 77,
   "metadata": {},
   "outputs": [],
   "source": [
    "plumed.write_pymol('out/vis.py')"
   ]
  },
  {
   "cell_type": "markdown",
   "metadata": {},
   "source": [
    "Save force field and topology files files of the mean position pseudoatoms "
   ]
  },
  {
   "cell_type": "code",
   "execution_count": 110,
   "metadata": {},
   "outputs": [
    {
     "name": "stdout",
     "output_type": "stream",
     "text": [
      "(1) Copy the \"MP.itp\" file into your force field directory\n",
      "\n",
      "(2) Add the following lines to your \"topology.top\" file:\n",
      "; Include topology for dye mean position\n",
      "#include \"<path/to/forcefield>/MP.itp\"\n",
      "\n",
      "#ifdef POSRES\n",
      "[ position_restraints ]\n",
      "1     1  1000  1000  1000\n",
      "#endif\n",
      "(3) Add the following line to your \"atomtypes.atp\" file in the force field directory:\n",
      "MP        0.00000 ;\n",
      "\n",
      "(4) Add the following lines to your \"ffnonbonded.itp\" file in the force field directory:\n",
      "; Dummy mass for dye mean position\n",
      "MP          35      79.90    0.0000  A   4.64693e-01  2.45414e-01\n"
     ]
    }
   ],
   "source": [
    "plumed.write_pseudo('out/MP.pdb', 'out/MP.itp')"
   ]
  },
  {
   "cell_type": "code",
   "execution_count": 55,
   "metadata": {},
   "outputs": [],
   "source": [
    "don.save_mp('out/p19_D.dat', units='nm', format='plain')\n",
    "acc.save_mp('out/p19_A.dat', units='nm', format='plain')"
   ]
  },
  {
   "cell_type": "markdown",
   "metadata": {},
   "source": [
    "First, backup the original .gro file. Then, insert the mean position coordinates given in **MP.pdb** at positions specified by **DNA_D.dat** and **DNA_A.dat** \n",
    "\n",
    "```\n",
    "mv DNA.gro DNA_original.gro\n",
    "gmx insert-molecules -ci MP.pdb -f DNA_original.gro -o DNA.gro -ip out/DNA_D.dat -replace water |& tee tmp_insert.dat\n",
    "gmx insert-molecules -ci MP.pdb -f DNA.gro -o DNA.gro -ip out/DNA_A.dat -replace water |& tee -a tmp_insert.dat\n",
    "```\n",
    "\n",
    "Run the following command will tell you how many solvent molecules have been replaced by the MP pseudoatoms and how to update the topology. \n",
    "\n",
    "```\n",
    "awk '$1 == \"Replaced\" {sum += $2}; END {print \"\\nIn your topology.top file under the section [ molecules ] do the following:\\n(1) decrease the number of solvent molecules by \" sum \"\\n(2) add the following line:\\nMP        2\"}' tmp_insert.dat && rm tmp_insert.dat\n",
    "```"
   ]
  },
  {
   "cell_type": "code",
   "execution_count": null,
   "metadata": {},
   "outputs": [],
   "source": []
  }
 ],
 "metadata": {
  "kernelspec": {
   "display_name": "Python 3",
   "language": "python",
   "name": "python3"
  },
  "language_info": {
   "codemirror_mode": {
    "name": "ipython",
    "version": 3
   },
   "file_extension": ".py",
   "mimetype": "text/x-python",
   "name": "python",
   "nbconvert_exporter": "python",
   "pygments_lexer": "ipython3",
   "version": "3.7.9"
  }
 },
 "nbformat": 4,
 "nbformat_minor": 4
}

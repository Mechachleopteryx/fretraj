{
 "cells": [
  {
   "cell_type": "markdown",
   "metadata": {},
   "source": [
    "# Multiple ACVs"
   ]
  },
  {
   "cell_type": "code",
   "execution_count": 1,
   "metadata": {},
   "outputs": [],
   "source": [
    "import numpy as np\n",
    "from matplotlib import pyplot as plt\n",
    "import pandas as pd\n",
    "import mdtraj as md\n",
    "import fretraj as ft\n",
    "import seaborn as sns"
   ]
  },
  {
   "cell_type": "markdown",
   "metadata": {},
   "source": [
    "Let's load in an .xtc trajectory from a Gromacs MD run where snapshots are saved every 10 ns (note: time units of MDtraj are picoseconds)"
   ]
  },
  {
   "cell_type": "code",
   "execution_count": 2,
   "metadata": {},
   "outputs": [],
   "source": [
    "traj = md.load_xtc('DNA_every10ns.xtc', top='DNA.pdb')"
   ]
  },
  {
   "cell_type": "code",
   "execution_count": 3,
   "metadata": {},
   "outputs": [
    {
     "name": "stdout",
     "output_type": "stream",
     "text": [
      "timestep: 10 ns\n",
      "length: 200 ns\n"
     ]
    }
   ],
   "source": [
    "print(f'timestep: {traj.timestep/1000:0.0f} ns')\n",
    "print(f'length: {traj.time[-1]/1000:0.0f} ns')"
   ]
  },
  {
   "cell_type": "markdown",
   "metadata": {},
   "source": [
    "Select only the nucleic acid residues and remove the ions "
   ]
  },
  {
   "cell_type": "code",
   "execution_count": 4,
   "metadata": {},
   "outputs": [],
   "source": [
    "nucleic = traj.top.select('resn A or resn G or resn C or resn U')"
   ]
  },
  {
   "cell_type": "code",
   "execution_count": 5,
   "metadata": {},
   "outputs": [],
   "source": [
    "table, bonds = traj.top.to_dataframe()"
   ]
  },
  {
   "cell_type": "markdown",
   "metadata": {},
   "source": [
    "Next, let's define the attachement points and the dye-linker dimensions. We choose the `O5'` at the 5'-end of either chain as the attachment sites."
   ]
  },
  {
   "cell_type": "code",
   "execution_count": 6,
   "metadata": {},
   "outputs": [],
   "source": [
    "labels = {\"Position\":\n",
    "            {\"Cy3\":\n",
    "                {\"attach_id\": 622,\n",
    "                 \"linker_length\": 21,\n",
    "                 \"linker_width\": 5,\n",
    "                 \"dye_radius1\": 8.0,\n",
    "                 \"dye_radius2\": 3.0,\n",
    "                 \"dye_radius3\": 1.5},\n",
    "            \"Cy5\":\n",
    "                {\"attach_id\": 1371,\n",
    "                 \"linker_length\": 20.5,\n",
    "                 \"linker_width\": 5,\n",
    "                 \"dye_radius1\": 9.5,\n",
    "                 \"dye_radius2\": 3.0,\n",
    "                 \"dye_radius3\": 1.5}},\n",
    "          \"Distance\": {\"Cy3-Cy5\":\n",
    "            {\"R0\": 54}}}"
   ]
  },
  {
   "cell_type": "code",
   "execution_count": 8,
   "metadata": {},
   "outputs": [],
   "source": [
    "labels = ft.cloud.check_labels(labels, verbose=False)"
   ]
  },
  {
   "cell_type": "markdown",
   "metadata": {},
   "source": [
    "Calculate ACVs for all snapshots along the trajectory"
   ]
  },
  {
   "cell_type": "code",
   "execution_count": 201,
   "metadata": {},
   "outputs": [
    {
     "name": "stdout",
     "output_type": "stream",
     "text": [
      "Empty Accessible volume at position 622. Is your attachment point buried?\n",
      "Empty Accessible volume at position 622. Is your attachment point buried?\n",
      "Progress: |████████████████████| 100% complete\n",
      "Progress: |████████████████████| 100% complete\n"
     ]
    }
   ],
   "source": [
    "don = ft.cloud.Volume.from_frames(traj, 'Cy3', labels, range(20))\n",
    "acc = ft.cloud.Volume.from_frames(traj, 'Cy5', labels, range(20))"
   ]
  },
  {
   "cell_type": "markdown",
   "metadata": {},
   "source": [
    "Similary, compute the FRET efficiency over the trajectory"
   ]
  },
  {
   "cell_type": "code",
   "execution_count": 202,
   "metadata": {},
   "outputs": [
    {
     "name": "stdout",
     "output_type": "stream",
     "text": [
      "One accessible volume is empty\n",
      "One accessible volume is empty\n"
     ]
    }
   ],
   "source": [
    "fret = []\n",
    "for i in range(20):\n",
    "    fret.append(ft.cloud.FRET_Trajectory(don[i], acc[i], 'Cy3-Cy5', labels))"
   ]
  },
  {
   "cell_type": "code",
   "execution_count": 235,
   "metadata": {},
   "outputs": [
    {
     "data": {
      "image/png": "[encoded data removed]",
      "text/plain": [
       "<Figure size 396x144 with 2 Axes>"
      ]
     },
     "metadata": {},
     "output_type": "display_data"
    }
   ],
   "source": [
    "with sns.axes_style('ticks'):\n",
    "    fig, ax = plt.subplots(1,2,figsize=(5.5,2), squeeze=False, gridspec_kw={'wspace':0.5})\n",
    "    ax[0,0].hist([fret[i].mean_E_DA for i in range(15) if hasattr(fret[i], 'mean_E_DA')], range=(0,1), bins=15, color='k')\n",
    "    ax[0,0].set_xlabel('FRET')\n",
    "    ax[0,0].set_ylabel('counts')\n",
    "    \n",
    "    ax[0,1].hist([fret[i].mean_R_DA for i in range(15) if hasattr(fret[i], 'mean_R_DA')], range=(0,100), bins=15, color='k')\n",
    "    ax[0,1].set_xlabel('dye distance')\n",
    "    ax[0,1].set_ylabel('counts')"
   ]
  },
  {
   "cell_type": "code",
   "execution_count": null,
   "metadata": {},
   "outputs": [],
   "source": []
  }
 ],
 "metadata": {
  "kernelspec": {
   "display_name": "Python 3",
   "language": "python",
   "name": "python3"
  },
  "language_info": {
   "codemirror_mode": {
    "name": "ipython",
    "version": 3
   },
   "file_extension": ".py",
   "mimetype": "text/x-python",
   "name": "python",
   "nbconvert_exporter": "python",
   "pygments_lexer": "ipython3",
   "version": "3.7.9"
  }
 },
 "nbformat": 4,
 "nbformat_minor": 4
}
